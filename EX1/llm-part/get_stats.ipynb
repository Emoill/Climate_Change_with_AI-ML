{
 "cells": [
  {
   "cell_type": "code",
   "execution_count": 1,
   "outputs": [
    {
     "name": "stderr",
     "output_type": "stream",
     "text": [
      "Found cached dataset lambada (/home/me/.cache/huggingface/datasets/lambada/plain_text/1.1.0/2e4879aaaa342d8f748b7275991006d2e27a8b0abc0a28ea299b3e3b839a3a40)\n"
     ]
    },
    {
     "data": {
      "text/plain": "  0%|          | 0/3 [00:00<?, ?it/s]",
      "application/vnd.jupyter.widget-view+json": {
       "version_major": 2,
       "version_minor": 0,
       "model_id": "6cdae765d17148868b374b9395de4831"
      }
     },
     "metadata": {},
     "output_type": "display_data"
    }
   ],
   "source": [
    "# https://huggingface.co/datasets/lambada\n",
    "\n",
    "import pandas as pd\n",
    "from datasets import load_dataset\n",
    "\n",
    "dataset = pd.DataFrame(load_dataset(\"lambada\")['validation']['text'], columns=['text'])\n",
    "\n",
    "dataset[['input', 'target']] = dataset['text'].str.rsplit(pat=' ', n=1, expand=True)"
   ],
   "metadata": {
    "collapsed": false,
    "ExecuteTime": {
     "end_time": "2023-11-18T14:35:47.437309374Z",
     "start_time": "2023-11-18T14:35:44.924309625Z"
    }
   },
   "id": "3068ae923c9c531d"
  },
  {
   "cell_type": "code",
   "execution_count": 3,
   "outputs": [
    {
     "name": "stdout",
     "output_type": "stream",
     "text": [
      "                                                text  \\\n",
      "0  her pay for the evening was almost double that...   \n",
      "1  `` nineteen , '' she said , and he loosed a br...   \n",
      "2  my assessment of being dead before lunch was n...   \n",
      "3  ` just in case there 's trouble , ' he grunted...   \n",
      "4  they are racially mixed and all have their mba...   \n",
      "\n",
      "                                               input   target  \n",
      "0  her pay for the evening was almost double that...     cake  \n",
      "1  `` nineteen , '' she said , and he loosed a br...    rowan  \n",
      "2  my assessment of being dead before lunch was n...      mat  \n",
      "3  ` just in case there 's trouble , ' he grunted...  trouble  \n",
      "4  they are racially mixed and all have their mba...   arrows  \n"
     ]
    }
   ],
   "source": [
    "print(dataset.head())"
   ],
   "metadata": {
    "collapsed": false,
    "ExecuteTime": {
     "end_time": "2023-11-18T14:36:28.063971382Z",
     "start_time": "2023-11-18T14:36:28.020704595Z"
    }
   },
   "id": "ad152b2ae7d5ebea"
  },
  {
   "cell_type": "code",
   "execution_count": null,
   "outputs": [],
   "source": [],
   "metadata": {
    "collapsed": false
   },
   "id": "b94b222a1565e972"
  }
 ],
 "metadata": {
  "kernelspec": {
   "display_name": "Python 3",
   "language": "python",
   "name": "python3"
  },
  "language_info": {
   "codemirror_mode": {
    "name": "ipython",
    "version": 2
   },
   "file_extension": ".py",
   "mimetype": "text/x-python",
   "name": "python",
   "nbconvert_exporter": "python",
   "pygments_lexer": "ipython2",
   "version": "2.7.6"
  }
 },
 "nbformat": 4,
 "nbformat_minor": 5
}
