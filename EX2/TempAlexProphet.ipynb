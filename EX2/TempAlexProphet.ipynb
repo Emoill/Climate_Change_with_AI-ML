{
 "cells": [
  {
   "cell_type": "code",
   "execution_count": 1,
   "metadata": {
    "ExecuteTime": {
     "end_time": "2024-01-07T13:15:31.518804841Z",
     "start_time": "2024-01-07T13:15:31.438924600Z"
    }
   },
   "outputs": [
    {
     "name": "stderr",
     "output_type": "stream",
     "text": [
      "Importing plotly failed. Interactive plots will not work.\n"
     ]
    }
   ],
   "source": [
    "from prophet import Prophet\n",
    "from sklearn.metrics import mean_squared_error\n",
    "from math import sqrt\n",
    "from utils import get_test_table  # Make sure to have this utility function available\n",
    "import pandas as pd\n",
    "from sklearn.model_selection import ParameterGrid"
   ]
  },
  {
   "cell_type": "code",
   "execution_count": 2,
   "metadata": {
    "ExecuteTime": {
     "end_time": "2024-01-07T13:15:32.718232041Z",
     "start_time": "2024-01-07T13:15:32.714172380Z"
    }
   },
   "outputs": [],
   "source": [
    "# Define your hyperparameter grid\n",
    "param_grid = {\n",
    "    'changepoint_prior_scale': [0.001, 0.1, 0.5, 1],\n",
    "    'seasonality_prior_scale': [0.01, 1.0, 10.0, 30.0]\n",
    "}\n",
    "\n",
    "# Create the grid\n",
    "grid = ParameterGrid(param_grid)"
   ]
  },
  {
   "cell_type": "code",
   "execution_count": 3,
   "metadata": {
    "ExecuteTime": {
     "end_time": "2024-01-07T13:15:41.825167441Z",
     "start_time": "2024-01-07T13:15:41.781990866Z"
    }
   },
   "outputs": [],
   "source": [
    "# Load your data\n",
    "X_train, X_test, y_train, y_test = get_test_table()\n",
    "\n",
    "\n",
    "train_df = pd.concat([X_train[['date']], y_train], axis=1)\n",
    "train_df = train_df.rename(columns={'date': 'ds', 'prec': 'y'})\n",
    "\n",
    "additional_regressors = ['surf_net_therm_rad_max', '10m_wind_u', 'surf_net_therm_rad_mean']\n",
    "\n",
    "train_df = pd.concat([train_df, X_train[additional_regressors]], axis=1)\n"
   ]
  },
  {
   "cell_type": "code",
   "execution_count": 28,
   "metadata": {},
   "outputs": [
    {
     "name": "stderr",
     "output_type": "stream",
     "text": [
      "13:18:18 - cmdstanpy - INFO - Chain [1] start processing\n",
      "13:18:19 - cmdstanpy - INFO - Chain [1] done processing\n"
     ]
    },
    {
     "name": "stdout",
     "output_type": "stream",
     "text": [
      "Parameters: {'changepoint_prior_scale': 0.001, 'seasonality_prior_scale': 0.01}, RMSE: 5.5533\n"
     ]
    },
    {
     "name": "stderr",
     "output_type": "stream",
     "text": [
      "13:18:24 - cmdstanpy - INFO - Chain [1] start processing\n",
      "13:18:25 - cmdstanpy - INFO - Chain [1] done processing\n"
     ]
    },
    {
     "name": "stdout",
     "output_type": "stream",
     "text": [
      "Parameters: {'changepoint_prior_scale': 0.001, 'seasonality_prior_scale': 1.0}, RMSE: 5.5552\n"
     ]
    },
    {
     "name": "stderr",
     "output_type": "stream",
     "text": [
      "13:18:31 - cmdstanpy - INFO - Chain [1] start processing\n",
      "13:18:33 - cmdstanpy - INFO - Chain [1] done processing\n"
     ]
    },
    {
     "name": "stdout",
     "output_type": "stream",
     "text": [
      "Parameters: {'changepoint_prior_scale': 0.001, 'seasonality_prior_scale': 10.0}, RMSE: 5.5592\n"
     ]
    },
    {
     "name": "stderr",
     "output_type": "stream",
     "text": [
      "13:18:40 - cmdstanpy - INFO - Chain [1] start processing\n",
      "13:18:42 - cmdstanpy - INFO - Chain [1] done processing\n"
     ]
    },
    {
     "name": "stdout",
     "output_type": "stream",
     "text": [
      "Parameters: {'changepoint_prior_scale': 0.001, 'seasonality_prior_scale': 20.0}, RMSE: 5.5597\n"
     ]
    },
    {
     "name": "stderr",
     "output_type": "stream",
     "text": [
      "13:18:47 - cmdstanpy - INFO - Chain [1] start processing\n",
      "13:18:48 - cmdstanpy - INFO - Chain [1] done processing\n"
     ]
    },
    {
     "name": "stdout",
     "output_type": "stream",
     "text": [
      "Parameters: {'changepoint_prior_scale': 0.001, 'seasonality_prior_scale': 30.0}, RMSE: 5.5593\n"
     ]
    },
    {
     "name": "stderr",
     "output_type": "stream",
     "text": [
      "13:18:55 - cmdstanpy - INFO - Chain [1] start processing\n",
      "13:18:59 - cmdstanpy - INFO - Chain [1] done processing\n"
     ]
    },
    {
     "name": "stdout",
     "output_type": "stream",
     "text": [
      "Parameters: {'changepoint_prior_scale': 0.1, 'seasonality_prior_scale': 0.01}, RMSE: 5.5170\n"
     ]
    },
    {
     "name": "stderr",
     "output_type": "stream",
     "text": [
      "13:19:04 - cmdstanpy - INFO - Chain [1] start processing\n",
      "13:19:07 - cmdstanpy - INFO - Chain [1] done processing\n"
     ]
    },
    {
     "name": "stdout",
     "output_type": "stream",
     "text": [
      "Parameters: {'changepoint_prior_scale': 0.1, 'seasonality_prior_scale': 1.0}, RMSE: 5.5166\n"
     ]
    },
    {
     "name": "stderr",
     "output_type": "stream",
     "text": [
      "13:19:14 - cmdstanpy - INFO - Chain [1] start processing\n",
      "13:19:18 - cmdstanpy - INFO - Chain [1] done processing\n"
     ]
    },
    {
     "name": "stdout",
     "output_type": "stream",
     "text": [
      "Parameters: {'changepoint_prior_scale': 0.1, 'seasonality_prior_scale': 10.0}, RMSE: 5.5163\n"
     ]
    },
    {
     "name": "stderr",
     "output_type": "stream",
     "text": [
      "13:19:25 - cmdstanpy - INFO - Chain [1] start processing\n",
      "13:19:29 - cmdstanpy - INFO - Chain [1] done processing\n"
     ]
    },
    {
     "name": "stdout",
     "output_type": "stream",
     "text": [
      "Parameters: {'changepoint_prior_scale': 0.1, 'seasonality_prior_scale': 20.0}, RMSE: 5.5164\n"
     ]
    },
    {
     "name": "stderr",
     "output_type": "stream",
     "text": [
      "13:19:37 - cmdstanpy - INFO - Chain [1] start processing\n",
      "13:19:41 - cmdstanpy - INFO - Chain [1] done processing\n"
     ]
    },
    {
     "name": "stdout",
     "output_type": "stream",
     "text": [
      "Parameters: {'changepoint_prior_scale': 0.1, 'seasonality_prior_scale': 30.0}, RMSE: 5.5162\n"
     ]
    },
    {
     "name": "stderr",
     "output_type": "stream",
     "text": [
      "13:19:49 - cmdstanpy - INFO - Chain [1] start processing\n",
      "13:19:52 - cmdstanpy - INFO - Chain [1] done processing\n"
     ]
    },
    {
     "name": "stdout",
     "output_type": "stream",
     "text": [
      "Parameters: {'changepoint_prior_scale': 0.5, 'seasonality_prior_scale': 0.01}, RMSE: 5.5174\n"
     ]
    },
    {
     "name": "stderr",
     "output_type": "stream",
     "text": [
      "13:19:57 - cmdstanpy - INFO - Chain [1] start processing\n",
      "13:20:02 - cmdstanpy - INFO - Chain [1] done processing\n"
     ]
    },
    {
     "name": "stdout",
     "output_type": "stream",
     "text": [
      "Parameters: {'changepoint_prior_scale': 0.5, 'seasonality_prior_scale': 1.0}, RMSE: 5.5172\n"
     ]
    },
    {
     "name": "stderr",
     "output_type": "stream",
     "text": [
      "13:20:06 - cmdstanpy - INFO - Chain [1] start processing\n",
      "13:20:09 - cmdstanpy - INFO - Chain [1] done processing\n"
     ]
    },
    {
     "name": "stdout",
     "output_type": "stream",
     "text": [
      "Parameters: {'changepoint_prior_scale': 0.5, 'seasonality_prior_scale': 10.0}, RMSE: 5.5168\n"
     ]
    },
    {
     "name": "stderr",
     "output_type": "stream",
     "text": [
      "13:20:15 - cmdstanpy - INFO - Chain [1] start processing\n",
      "13:20:21 - cmdstanpy - INFO - Chain [1] done processing\n"
     ]
    },
    {
     "name": "stdout",
     "output_type": "stream",
     "text": [
      "Parameters: {'changepoint_prior_scale': 0.5, 'seasonality_prior_scale': 20.0}, RMSE: 5.5166\n"
     ]
    },
    {
     "name": "stderr",
     "output_type": "stream",
     "text": [
      "13:20:28 - cmdstanpy - INFO - Chain [1] start processing\n",
      "13:20:32 - cmdstanpy - INFO - Chain [1] done processing\n"
     ]
    },
    {
     "name": "stdout",
     "output_type": "stream",
     "text": [
      "Parameters: {'changepoint_prior_scale': 0.5, 'seasonality_prior_scale': 30.0}, RMSE: 5.5177\n"
     ]
    },
    {
     "name": "stderr",
     "output_type": "stream",
     "text": [
      "13:20:36 - cmdstanpy - INFO - Chain [1] start processing\n",
      "13:20:42 - cmdstanpy - INFO - Chain [1] done processing\n"
     ]
    },
    {
     "name": "stdout",
     "output_type": "stream",
     "text": [
      "Parameters: {'changepoint_prior_scale': 1, 'seasonality_prior_scale': 0.01}, RMSE: 5.5168\n"
     ]
    },
    {
     "name": "stderr",
     "output_type": "stream",
     "text": [
      "13:20:46 - cmdstanpy - INFO - Chain [1] start processing\n",
      "13:20:52 - cmdstanpy - INFO - Chain [1] done processing\n"
     ]
    },
    {
     "name": "stdout",
     "output_type": "stream",
     "text": [
      "Parameters: {'changepoint_prior_scale': 1, 'seasonality_prior_scale': 1.0}, RMSE: 5.5185\n"
     ]
    },
    {
     "name": "stderr",
     "output_type": "stream",
     "text": [
      "13:20:57 - cmdstanpy - INFO - Chain [1] start processing\n",
      "13:21:03 - cmdstanpy - INFO - Chain [1] done processing\n"
     ]
    },
    {
     "name": "stdout",
     "output_type": "stream",
     "text": [
      "Parameters: {'changepoint_prior_scale': 1, 'seasonality_prior_scale': 10.0}, RMSE: 5.5174\n"
     ]
    },
    {
     "name": "stderr",
     "output_type": "stream",
     "text": [
      "13:21:08 - cmdstanpy - INFO - Chain [1] start processing\n",
      "13:21:13 - cmdstanpy - INFO - Chain [1] done processing\n"
     ]
    },
    {
     "name": "stdout",
     "output_type": "stream",
     "text": [
      "Parameters: {'changepoint_prior_scale': 1, 'seasonality_prior_scale': 20.0}, RMSE: 5.5181\n"
     ]
    },
    {
     "name": "stderr",
     "output_type": "stream",
     "text": [
      "13:21:18 - cmdstanpy - INFO - Chain [1] start processing\n",
      "13:21:26 - cmdstanpy - INFO - Chain [1] done processing\n"
     ]
    },
    {
     "name": "stdout",
     "output_type": "stream",
     "text": [
      "Parameters: {'changepoint_prior_scale': 1, 'seasonality_prior_scale': 30.0}, RMSE: 5.5171\n"
     ]
    },
    {
     "name": "stderr",
     "output_type": "stream",
     "text": [
      "13:21:31 - cmdstanpy - INFO - Chain [1] start processing\n",
      "13:21:40 - cmdstanpy - INFO - Chain [1] done processing\n"
     ]
    },
    {
     "name": "stdout",
     "output_type": "stream",
     "text": [
      "Parameters: {'changepoint_prior_scale': 2, 'seasonality_prior_scale': 0.01}, RMSE: 5.5169\n"
     ]
    },
    {
     "name": "stderr",
     "output_type": "stream",
     "text": [
      "13:21:42 - cmdstanpy - INFO - Chain [1] start processing\n",
      "13:21:46 - cmdstanpy - INFO - Chain [1] done processing\n"
     ]
    },
    {
     "name": "stdout",
     "output_type": "stream",
     "text": [
      "Parameters: {'changepoint_prior_scale': 2, 'seasonality_prior_scale': 1.0}, RMSE: 5.5173\n"
     ]
    },
    {
     "name": "stderr",
     "output_type": "stream",
     "text": [
      "13:21:49 - cmdstanpy - INFO - Chain [1] start processing\n",
      "13:21:52 - cmdstanpy - INFO - Chain [1] done processing\n"
     ]
    },
    {
     "name": "stdout",
     "output_type": "stream",
     "text": [
      "Parameters: {'changepoint_prior_scale': 2, 'seasonality_prior_scale': 10.0}, RMSE: 5.5159\n"
     ]
    },
    {
     "name": "stderr",
     "output_type": "stream",
     "text": [
      "13:21:54 - cmdstanpy - INFO - Chain [1] start processing\n",
      "13:21:57 - cmdstanpy - INFO - Chain [1] done processing\n"
     ]
    },
    {
     "name": "stdout",
     "output_type": "stream",
     "text": [
      "Parameters: {'changepoint_prior_scale': 2, 'seasonality_prior_scale': 20.0}, RMSE: 5.5197\n"
     ]
    },
    {
     "name": "stderr",
     "output_type": "stream",
     "text": [
      "13:22:02 - cmdstanpy - INFO - Chain [1] start processing\n",
      "13:22:06 - cmdstanpy - INFO - Chain [1] done processing\n"
     ]
    },
    {
     "name": "stdout",
     "output_type": "stream",
     "text": [
      "Parameters: {'changepoint_prior_scale': 2, 'seasonality_prior_scale': 30.0}, RMSE: 5.5164\n",
      "\n",
      "Best Parameters: {'params': {'changepoint_prior_scale': 2, 'seasonality_prior_scale': 10.0}, 'rmse': 5.515903312696955}\n"
     ]
    }
   ],
   "source": [
    "results = []\n",
    "\n",
    "for params in grid:\n",
    "    model = Prophet(\n",
    "        changepoint_prior_scale=params['changepoint_prior_scale'],\n",
    "        seasonality_prior_scale=params['seasonality_prior_scale']\n",
    "    )\n",
    "    \n",
    "    for regressor in additional_regressors:\n",
    "        model.add_regressor(regressor)\n",
    "\n",
    "    model.fit(train_df)\n",
    "\n",
    "    future_df = pd.concat([X_test[['date']].rename(columns={'date': 'ds'}), X_test[additional_regressors]], axis=1)\n",
    "\n",
    "    forecast = model.predict(future_df)\n",
    "    #Saying that min is 0\n",
    "    forecast['yhat'] = forecast['yhat'].clip(lower=0)\n",
    "\n",
    "    y_pred = forecast['yhat'].values\n",
    "    rmse = sqrt(mean_squared_error(y_test.values, y_pred))\n",
    "\n",
    "    results.append({'params': params, 'rmse': rmse})\n",
    "\n",
    "    print(f\"Parameters: {params}, RMSE: {rmse:.4f}\")\n",
    "\n",
    "best_params = sorted(results, key=lambda x: x['rmse'])[0]\n",
    "print(f'\\nBest Parameters: {best_params}')"
   ]
  },
  {
   "cell_type": "code",
   "execution_count": 29,
   "metadata": {},
   "outputs": [
    {
     "data": {
      "image/png": "[encoded data removed]",
      "text/plain": [
       "<Figure size 1000x600 with 1 Axes>"
      ]
     },
     "metadata": {},
     "output_type": "display_data"
    }
   ],
   "source": [
    "import matplotlib.pyplot as plt\n",
    "\n",
    "# Assuming 'forecast' is your prediction result from Prophet and 'y_test' is your actual values\n",
    "# Also, assuming 'X_test' contains the corresponding dates for 'y_test'\n",
    "\n",
    "# Extract the dates for plotting (from the test set)\n",
    "dates = X_test['date']\n",
    "\n",
    "# Plot actual values\n",
    "plt.figure(figsize=(10, 6))\n",
    "plt.plot(dates, y_test.values, label='Actual', color='blue')\n",
    "\n",
    "# Plot predicted values\n",
    "plt.plot(dates, forecast['yhat'].values, label='Predicted', color='red')\n",
    "\n",
    "# Adding title and labels\n",
    "plt.title('Actual vs Predicted Values')\n",
    "plt.xlabel('Date')\n",
    "plt.ylabel('Target Variable')\n",
    "\n",
    "# Show legend\n",
    "plt.legend()\n",
    "\n",
    "# Display the plot\n",
    "plt.show()\n"
   ]
  }
 ],
 "metadata": {
  "kernelspec": {
   "display_name": "Python 3",
   "language": "python",
   "name": "python3"
  },
  "language_info": {
   "codemirror_mode": {
    "name": "ipython",
    "version": 3
   },
   "file_extension": ".py",
   "mimetype": "text/x-python",
   "name": "python",
   "nbconvert_exporter": "python",
   "pygments_lexer": "ipython3",
   "version": "3.10.10"
  }
 },
 "nbformat": 4,
 "nbformat_minor": 2
}
