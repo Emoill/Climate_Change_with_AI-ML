{
 "cells": [
  {
   "cell_type": "code",
   "execution_count": 1,
   "id": "initial_id",
   "metadata": {
    "collapsed": true,
    "ExecuteTime": {
     "end_time": "2024-01-06T16:26:45.018348855Z",
     "start_time": "2024-01-06T16:26:43.808252428Z"
    }
   },
   "outputs": [
    {
     "name": "stdout",
     "output_type": "stream",
     "text": [
      "Requirement already satisfied: statsmodels in /home/me/Documents/python_virtual_environment/lib/python3.12/site-packages (0.14.1)\r\n",
      "Requirement already satisfied: numpy<2,>=1.18 in /home/me/Documents/python_virtual_environment/lib/python3.12/site-packages (from statsmodels) (1.26.2)\r\n",
      "Requirement already satisfied: scipy!=1.9.2,>=1.4 in /home/me/Documents/python_virtual_environment/lib/python3.12/site-packages (from statsmodels) (1.11.4)\r\n",
      "Requirement already satisfied: pandas!=2.1.0,>=1.0 in /home/me/Documents/python_virtual_environment/lib/python3.12/site-packages (from statsmodels) (2.1.4)\r\n",
      "Requirement already satisfied: patsy>=0.5.4 in /home/me/Documents/python_virtual_environment/lib/python3.12/site-packages (from statsmodels) (0.5.6)\r\n",
      "Requirement already satisfied: packaging>=21.3 in /home/me/Documents/python_virtual_environment/lib/python3.12/site-packages (from statsmodels) (23.2)\r\n",
      "Requirement already satisfied: python-dateutil>=2.8.2 in /home/me/Documents/python_virtual_environment/lib/python3.12/site-packages (from pandas!=2.1.0,>=1.0->statsmodels) (2.8.2)\r\n",
      "Requirement already satisfied: pytz>=2020.1 in /usr/lib/python3/dist-packages (from pandas!=2.1.0,>=1.0->statsmodels) (2022.1)\r\n",
      "Requirement already satisfied: tzdata>=2022.1 in /home/me/Documents/python_virtual_environment/lib/python3.12/site-packages (from pandas!=2.1.0,>=1.0->statsmodels) (2023.4)\r\n",
      "Requirement already satisfied: six in /usr/lib/python3/dist-packages (from patsy>=0.5.4->statsmodels) (1.16.0)\r\n"
     ]
    }
   ],
   "source": [
    "!python -m pip install statsmodels"
   ]
  },
  {
   "cell_type": "code",
   "outputs": [],
   "source": [
    "import statsmodels.api as sm\n",
    "import pandas as pd\n",
    "import numpy as np\n",
    "import matplotlib.pyplot as plt\n",
    "from statsmodels.tsa.statespace.sarimax import SARIMAX\n",
    "from datetime import datetime\n",
    "from sklearn.model_selection import train_test_split\n",
    "from EX2.utils import seed \n"
   ],
   "metadata": {
    "collapsed": false,
    "ExecuteTime": {
     "end_time": "2024-01-06T17:09:32.845844549Z",
     "start_time": "2024-01-06T17:09:32.658530890Z"
    }
   },
   "id": "5749f0430720a772",
   "execution_count": 1
  },
  {
   "cell_type": "code",
   "outputs": [],
   "source": [
    "\n",
    "# will: i am just loading a single file here directly for testing, in the future we will loop\n",
    "# through all the files\n",
    "df = pd.read_csv(\n",
    "\t'LamaH-dataset/A_basins_total_upstrm/2_timeseries/daily/ID_24.csv',\n",
    "\tsep = ';'\n",
    ")\n",
    "\n",
    "# convert date columns into datetime for better plotting\n",
    "df.insert(0, 'date', pd.to_datetime(\n",
    "\tdf[['YYYY', 'MM', 'DD']].rename(columns={'YYYY': 'year', 'MM': 'month', 'DD': 'day'})\n",
    "))\n",
    "\n",
    "response = 'prec'\n",
    "\n",
    "X = df.drop([response], axis=1)\n",
    "y = df[response]\n",
    "\n",
    "X_train, X_test, y_train, y_test = train_test_split(X, y, random_state=seed)\n",
    "\n"
   ],
   "metadata": {
    "collapsed": false,
    "ExecuteTime": {
     "end_time": "2024-01-06T17:09:47.709747989Z",
     "start_time": "2024-01-06T17:09:47.677191921Z"
    }
   },
   "id": "3894725154ec74ee",
   "execution_count": 3
  },
  {
   "cell_type": "code",
   "outputs": [],
   "source": [],
   "metadata": {
    "collapsed": false
   },
   "id": "2e40e3fb8a7ef2eb"
  }
 ],
 "metadata": {
  "kernelspec": {
   "display_name": "Python 3",
   "language": "python",
   "name": "python3"
  },
  "language_info": {
   "codemirror_mode": {
    "name": "ipython",
    "version": 2
   },
   "file_extension": ".py",
   "mimetype": "text/x-python",
   "name": "python",
   "nbconvert_exporter": "python",
   "pygments_lexer": "ipython2",
   "version": "2.7.6"
  }
 },
 "nbformat": 4,
 "nbformat_minor": 5
}
