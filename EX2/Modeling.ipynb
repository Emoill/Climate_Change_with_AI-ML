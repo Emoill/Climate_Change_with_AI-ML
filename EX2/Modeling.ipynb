{
 "cells": [
  {
   "cell_type": "code",
   "execution_count": 1,
   "id": "initial_id",
   "metadata": {
    "collapsed": true,
    "ExecuteTime": {
     "end_time": "2024-01-06T18:35:41.330159930Z",
     "start_time": "2024-01-06T18:35:39.950382786Z"
    }
   },
   "outputs": [
    {
     "name": "stdout",
     "output_type": "stream",
     "text": [
      "Requirement already satisfied: statsmodels in /home/me/Documents/python_virtual_environment/lib/python3.12/site-packages (0.14.1)\r\n",
      "Requirement already satisfied: numpy<2,>=1.18 in /home/me/Documents/python_virtual_environment/lib/python3.12/site-packages (from statsmodels) (1.26.2)\r\n",
      "Requirement already satisfied: scipy!=1.9.2,>=1.4 in /home/me/Documents/python_virtual_environment/lib/python3.12/site-packages (from statsmodels) (1.11.4)\r\n",
      "Requirement already satisfied: pandas!=2.1.0,>=1.0 in /home/me/Documents/python_virtual_environment/lib/python3.12/site-packages (from statsmodels) (2.1.4)\r\n",
      "Requirement already satisfied: patsy>=0.5.4 in /home/me/Documents/python_virtual_environment/lib/python3.12/site-packages (from statsmodels) (0.5.6)\r\n",
      "Requirement already satisfied: packaging>=21.3 in /home/me/Documents/python_virtual_environment/lib/python3.12/site-packages (from statsmodels) (23.2)\r\n",
      "Requirement already satisfied: python-dateutil>=2.8.2 in /home/me/Documents/python_virtual_environment/lib/python3.12/site-packages (from pandas!=2.1.0,>=1.0->statsmodels) (2.8.2)\r\n",
      "Requirement already satisfied: pytz>=2020.1 in /usr/lib/python3/dist-packages (from pandas!=2.1.0,>=1.0->statsmodels) (2022.1)\r\n",
      "Requirement already satisfied: tzdata>=2022.1 in /home/me/Documents/python_virtual_environment/lib/python3.12/site-packages (from pandas!=2.1.0,>=1.0->statsmodels) (2023.4)\r\n",
      "Requirement already satisfied: six in /usr/lib/python3/dist-packages (from patsy>=0.5.4->statsmodels) (1.16.0)\r\n"
     ]
    }
   ],
   "source": [
    "!python -m pip install statsmodels"
   ]
  },
  {
   "cell_type": "code",
   "outputs": [
    {
     "name": "stderr",
     "output_type": "stream",
     "text": [
      "/usr/lib/python3/dist-packages/pytz/__init__.py:31: SyntaxWarning: invalid escape sequence '\\s'\n",
      "  match = re.match(\"^#\\s*version\\s*([0-9a-z]*)\\s*$\", line)\n"
     ]
    }
   ],
   "source": [
    "import statsmodels.api as sm\n",
    "import pandas as pd\n",
    "import numpy as np\n",
    "import matplotlib.pyplot as plt\n",
    "from statsmodels.tsa.statespace.sarimax import SARIMAX\n",
    "from datetime import datetime\n",
    "from sklearn.model_selection import train_test_split\n",
    "from EX2.utils import get_test_table\n"
   ],
   "metadata": {
    "collapsed": false,
    "ExecuteTime": {
     "end_time": "2024-01-06T18:35:42.479992831Z",
     "start_time": "2024-01-06T18:35:41.328975249Z"
    }
   },
   "id": "5749f0430720a772",
   "execution_count": 2
  },
  {
   "cell_type": "markdown",
   "source": [
    "# 1. Seasonal AutoRegressive Integrated Moving Average model (SARIMA)"
   ],
   "metadata": {
    "collapsed": false
   },
   "id": "b497dec235e84793"
  },
  {
   "cell_type": "code",
   "outputs": [
    {
     "name": "stderr",
     "output_type": "stream",
     "text": [
      "/home/me/Documents/python_virtual_environment/lib/python3.12/site-packages/statsmodels/tsa/base/tsa_model.py:473: ValueWarning: No frequency information was provided, so inferred frequency D will be used.\n",
      "  self._init_dates(dates, freq)\n",
      "/home/me/Documents/python_virtual_environment/lib/python3.12/site-packages/statsmodels/tsa/base/tsa_model.py:473: ValueWarning: No frequency information was provided, so inferred frequency D will be used.\n",
      "  self._init_dates(dates, freq)\n"
     ]
    }
   ],
   "source": [
    "#chat gpt\n",
    "\n",
    "df = pd.read_csv('data_temp/gauge24.csv').drop(columns=['Unnamed: 0'])\n",
    "\n",
    "# Convert 'date' column to datetime format\n",
    "df['date'] = pd.to_datetime(df['date'])\n",
    "df.set_index('date', inplace=True)\n",
    "\n",
    "# Specify the target variable (endogenous) and potential exogenous variables\n",
    "endog_variable = 'prec'  # Target variable\n",
    "exog_variables = ['2m_temp_mean', '10m_wind_u', '10m_wind_v']  # Example exogenous variables\n",
    "\n",
    "# Split the data into training and testing sets\n",
    "train_size = int(len(df) * 0.8)\n",
    "train, test = df.iloc[:train_size], df.iloc[train_size:]\n",
    "\n",
    "# Fit the SARIMAX model\n",
    "order = (1, 1, 1)  # Example order, you may need to tune these parameters\n",
    "seasonal_order = (1, 1, 1, 365)  # Example seasonal order, adjust as needed\n",
    "\n",
    "model = SARIMAX(train[endog_variable], exog=train[exog_variables], order=order, seasonal_order=seasonal_order, enforce_stationarity=False, enforce_invertibility=False)\n",
    "results = model.fit()\n",
    "\n",
    "# Forecast future values\n",
    "forecast_steps = len(test)\n",
    "forecast = results.get_forecast(steps=forecast_steps, exog=test[exog_variables])\n",
    "\n",
    "# Plot the results\n",
    "plt.figure(figsize=(12, 6))\n",
    "plt.plot(train.index, train[endog_variable], label='Training Data')\n",
    "plt.plot(test.index, test[endog_variable], label='Test Data')\n",
    "plt.plot(forecast.index, forecast.predicted_mean, label='Forecast')\n",
    "plt.fill_between(forecast.index, forecast.conf_int()['lower ' + endog_variable], forecast.conf_int()['upper ' + endog_variable], color='gray', alpha=0.2)\n",
    "plt.title('SARIMAX Forecast of Precipitation')\n",
    "plt.xlabel('Date')\n",
    "plt.ylabel('Precipitation')\n",
    "plt.legend()\n",
    "plt.show()\n"
   ],
   "metadata": {
    "collapsed": false,
    "is_executing": true,
    "ExecuteTime": {
     "start_time": "2024-01-06T18:35:42.484161850Z"
    }
   },
   "id": "d0b16a9f2a6131e6",
   "execution_count": null
  },
  {
   "cell_type": "code",
   "outputs": [],
   "source": [],
   "metadata": {
    "collapsed": false,
    "is_executing": true
   },
   "id": "913e3e5fb3c6d2cf"
  }
 ],
 "metadata": {
  "kernelspec": {
   "display_name": "Python 3",
   "language": "python",
   "name": "python3"
  },
  "language_info": {
   "codemirror_mode": {
    "name": "ipython",
    "version": 2
   },
   "file_extension": ".py",
   "mimetype": "text/x-python",
   "name": "python",
   "nbconvert_exporter": "python",
   "pygments_lexer": "ipython2",
   "version": "2.7.6"
  }
 },
 "nbformat": 4,
 "nbformat_minor": 5
}
