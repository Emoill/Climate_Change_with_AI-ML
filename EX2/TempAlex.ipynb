{
 "cells": [
  {
   "cell_type": "code",
   "execution_count": 42,
   "metadata": {},
   "outputs": [],
   "source": [
    "from utils import get_test_table\n",
    "import numpy as np"
   ]
  },
  {
   "cell_type": "code",
   "execution_count": 43,
   "metadata": {},
   "outputs": [],
   "source": [
    "X_train, X_test, y_train, y_test = get_test_table()\n",
    "X_train = X_train.drop([\"Unnamed: 0\"], axis=1)\n",
    "X_test=X_test.drop([\"Unnamed: 0\"], axis=1)"
   ]
  },
  {
   "cell_type": "markdown",
   "metadata": {},
   "source": [
    "Encoding the date column"
   ]
  },
  {
   "cell_type": "code",
   "execution_count": 44,
   "metadata": {},
   "outputs": [],
   "source": [
    "import pandas as pd\n",
    "\n",
    "# Assuming 'X_train' and 'X_test' are pandas DataFrames and have a date column named 'date'\n",
    "X_train['date'] = pd.to_datetime(X_train['date'])\n",
    "X_test['date'] = pd.to_datetime(X_test['date'])\n",
    "\n",
    "# Sort data by date\n",
    "X_train = X_train.sort_values(by='date')\n",
    "X_test = X_test.sort_values(by='date')\n",
    "\n",
    "# Assign a unique number to each date\n",
    "unique_dates = pd.concat([X_train['date'], X_test['date']]).unique()\n",
    "date_to_number = {date: i for i, date in enumerate(sorted(unique_dates))}\n",
    "X_train['date'] = X_train['date'].map(date_to_number).astype('float32')\n",
    "X_test['date'] = X_test['date'].map(date_to_number).astype('float32')\n",
    "\n",
    "# Convert the rest of your dataframe to float32\n",
    "X_train = X_train.astype('float32')\n",
    "X_test = X_test.astype('float32')\n",
    "\n",
    "# Reshape for LSTM input\n",
    "X_train = X_train.values.reshape((X_train.shape[0], 1, X_train.shape[1]))\n",
    "X_test = X_test.values.reshape((X_test.shape[0], 1, X_test.shape[1]))"
   ]
  },
  {
   "cell_type": "markdown",
   "metadata": {},
   "source": [
    "Model"
   ]
  },
  {
   "cell_type": "code",
   "execution_count": 45,
   "metadata": {},
   "outputs": [
    {
     "name": "stdout",
     "output_type": "stream",
     "text": [
      "Epoch 1/50\n",
      "149/149 - 3s - loss: 79.3668 - rmse: 8.7272 - val_loss: 71.0511 - val_rmse: 8.2453 - 3s/epoch - 18ms/step\n",
      "Epoch 2/50\n",
      "149/149 - 1s - loss: 70.7653 - rmse: 8.2252 - val_loss: 65.0762 - val_rmse: 7.8860 - 528ms/epoch - 4ms/step\n",
      "Epoch 3/50\n",
      "149/149 - 0s - loss: 66.0759 - rmse: 7.9435 - val_loss: 62.0521 - val_rmse: 7.7035 - 473ms/epoch - 3ms/step\n",
      "Epoch 4/50\n",
      "149/149 - 0s - loss: 63.8721 - rmse: 7.8126 - val_loss: 60.6814 - val_rmse: 7.6241 - 467ms/epoch - 3ms/step\n",
      "Epoch 5/50\n",
      "149/149 - 0s - loss: 62.9173 - rmse: 7.7588 - val_loss: 60.1540 - val_rmse: 7.5970 - 463ms/epoch - 3ms/step\n",
      "Epoch 6/50\n",
      "149/149 - 0s - loss: 62.5620 - rmse: 7.7413 - val_loss: 59.9875 - val_rmse: 7.5909 - 464ms/epoch - 3ms/step\n",
      "Epoch 7/50\n",
      "149/149 - 0s - loss: 62.4499 - rmse: 7.7375 - val_loss: 59.9479 - val_rmse: 7.5911 - 479ms/epoch - 3ms/step\n",
      "Epoch 8/50\n",
      "149/149 - 0s - loss: 62.4208 - rmse: 7.7375 - val_loss: 59.9435 - val_rmse: 7.5923 - 472ms/epoch - 3ms/step\n",
      "Epoch 9/50\n",
      "149/149 - 0s - loss: 62.4151 - rmse: 7.7381 - val_loss: 59.9456 - val_rmse: 7.5932 - 473ms/epoch - 3ms/step\n",
      "Epoch 10/50\n",
      "149/149 - 0s - loss: 62.4148 - rmse: 7.7385 - val_loss: 59.9475 - val_rmse: 7.5937 - 480ms/epoch - 3ms/step\n",
      "Epoch 11/50\n",
      "149/149 - 0s - loss: 62.4152 - rmse: 7.7388 - val_loss: 59.9487 - val_rmse: 7.5940 - 472ms/epoch - 3ms/step\n",
      "Epoch 12/50\n",
      "149/149 - 0s - loss: 62.4156 - rmse: 7.7389 - val_loss: 59.9493 - val_rmse: 7.5941 - 466ms/epoch - 3ms/step\n",
      "Epoch 13/50\n",
      "149/149 - 0s - loss: 62.4158 - rmse: 7.7389 - val_loss: 59.9497 - val_rmse: 7.5942 - 478ms/epoch - 3ms/step\n",
      "Epoch 14/50\n",
      "149/149 - 0s - loss: 62.4160 - rmse: 7.7389 - val_loss: 59.9499 - val_rmse: 7.5942 - 479ms/epoch - 3ms/step\n",
      "Epoch 15/50\n",
      "149/149 - 1s - loss: 62.4162 - rmse: 7.7389 - val_loss: 59.9501 - val_rmse: 7.5943 - 514ms/epoch - 3ms/step\n",
      "Epoch 16/50\n",
      "149/149 - 1s - loss: 62.4163 - rmse: 7.7390 - val_loss: 59.9503 - val_rmse: 7.5943 - 506ms/epoch - 3ms/step\n",
      "Epoch 17/50\n",
      "149/149 - 2s - loss: 62.4165 - rmse: 7.7390 - val_loss: 59.9505 - val_rmse: 7.5943 - 2s/epoch - 12ms/step\n",
      "Epoch 18/50\n",
      "149/149 - 2s - loss: 62.4166 - rmse: 7.7390 - val_loss: 59.9506 - val_rmse: 7.5944 - 2s/epoch - 13ms/step\n",
      "Epoch 19/50\n",
      "149/149 - 1s - loss: 62.4167 - rmse: 7.7390 - val_loss: 59.9508 - val_rmse: 7.5944 - 508ms/epoch - 3ms/step\n",
      "Epoch 20/50\n",
      "149/149 - 1s - loss: 62.4168 - rmse: 7.7390 - val_loss: 59.9509 - val_rmse: 7.5944 - 514ms/epoch - 3ms/step\n",
      "Epoch 21/50\n",
      "149/149 - 1s - loss: 62.4169 - rmse: 7.7390 - val_loss: 59.9510 - val_rmse: 7.5944 - 509ms/epoch - 3ms/step\n",
      "Epoch 22/50\n",
      "149/149 - 1s - loss: 62.4169 - rmse: 7.7390 - val_loss: 59.9511 - val_rmse: 7.5945 - 532ms/epoch - 4ms/step\n",
      "Epoch 23/50\n",
      "149/149 - 1s - loss: 62.4170 - rmse: 7.7390 - val_loss: 59.9512 - val_rmse: 7.5945 - 567ms/epoch - 4ms/step\n",
      "Epoch 24/50\n",
      "149/149 - 1s - loss: 62.4171 - rmse: 7.7390 - val_loss: 59.9513 - val_rmse: 7.5945 - 519ms/epoch - 3ms/step\n",
      "Epoch 25/50\n",
      "149/149 - 1s - loss: 62.4171 - rmse: 7.7390 - val_loss: 59.9514 - val_rmse: 7.5945 - 583ms/epoch - 4ms/step\n",
      "Epoch 26/50\n",
      "149/149 - 1s - loss: 62.4172 - rmse: 7.7390 - val_loss: 59.9515 - val_rmse: 7.5945 - 541ms/epoch - 4ms/step\n",
      "Epoch 27/50\n",
      "149/149 - 1s - loss: 62.4172 - rmse: 7.7390 - val_loss: 59.9515 - val_rmse: 7.5945 - 522ms/epoch - 4ms/step\n",
      "Epoch 28/50\n",
      "149/149 - 1s - loss: 62.4172 - rmse: 7.7390 - val_loss: 59.9516 - val_rmse: 7.5945 - 516ms/epoch - 3ms/step\n",
      "Epoch 29/50\n",
      "149/149 - 1s - loss: 62.4172 - rmse: 7.7390 - val_loss: 59.9516 - val_rmse: 7.5945 - 504ms/epoch - 3ms/step\n",
      "Epoch 30/50\n",
      "149/149 - 0s - loss: 62.4173 - rmse: 7.7390 - val_loss: 59.9517 - val_rmse: 7.5945 - 489ms/epoch - 3ms/step\n",
      "Epoch 31/50\n",
      "149/149 - 1s - loss: 62.4173 - rmse: 7.7390 - val_loss: 59.9517 - val_rmse: 7.5946 - 516ms/epoch - 3ms/step\n",
      "Epoch 32/50\n",
      "149/149 - 0s - loss: 62.4173 - rmse: 7.7390 - val_loss: 59.9517 - val_rmse: 7.5946 - 497ms/epoch - 3ms/step\n",
      "Epoch 33/50\n",
      "149/149 - 0s - loss: 62.4173 - rmse: 7.7390 - val_loss: 59.9518 - val_rmse: 7.5946 - 478ms/epoch - 3ms/step\n",
      "Epoch 34/50\n",
      "149/149 - 0s - loss: 62.4173 - rmse: 7.7390 - val_loss: 59.9518 - val_rmse: 7.5946 - 476ms/epoch - 3ms/step\n",
      "Epoch 35/50\n",
      "149/149 - 0s - loss: 62.4174 - rmse: 7.7390 - val_loss: 59.9518 - val_rmse: 7.5946 - 479ms/epoch - 3ms/step\n",
      "Epoch 36/50\n",
      "149/149 - 0s - loss: 62.4174 - rmse: 7.7390 - val_loss: 59.9518 - val_rmse: 7.5946 - 479ms/epoch - 3ms/step\n",
      "Epoch 37/50\n",
      "149/149 - 0s - loss: 62.4174 - rmse: 7.7390 - val_loss: 59.9519 - val_rmse: 7.5946 - 473ms/epoch - 3ms/step\n",
      "Epoch 38/50\n",
      "149/149 - 0s - loss: 62.4174 - rmse: 7.7390 - val_loss: 59.9519 - val_rmse: 7.5946 - 457ms/epoch - 3ms/step\n",
      "Epoch 39/50\n",
      "149/149 - 0s - loss: 62.4174 - rmse: 7.7390 - val_loss: 59.9519 - val_rmse: 7.5946 - 457ms/epoch - 3ms/step\n",
      "Epoch 40/50\n",
      "149/149 - 0s - loss: 62.4174 - rmse: 7.7390 - val_loss: 59.9519 - val_rmse: 7.5946 - 454ms/epoch - 3ms/step\n",
      "Epoch 41/50\n",
      "149/149 - 0s - loss: 62.4174 - rmse: 7.7390 - val_loss: 59.9519 - val_rmse: 7.5946 - 455ms/epoch - 3ms/step\n",
      "Epoch 42/50\n",
      "149/149 - 0s - loss: 62.4174 - rmse: 7.7390 - val_loss: 59.9519 - val_rmse: 7.5946 - 459ms/epoch - 3ms/step\n",
      "Epoch 43/50\n",
      "149/149 - 0s - loss: 62.4174 - rmse: 7.7390 - val_loss: 59.9519 - val_rmse: 7.5946 - 453ms/epoch - 3ms/step\n",
      "Epoch 44/50\n",
      "149/149 - 0s - loss: 62.4174 - rmse: 7.7390 - val_loss: 59.9519 - val_rmse: 7.5946 - 438ms/epoch - 3ms/step\n",
      "Epoch 45/50\n",
      "149/149 - 0s - loss: 62.4174 - rmse: 7.7390 - val_loss: 59.9519 - val_rmse: 7.5946 - 480ms/epoch - 3ms/step\n",
      "Epoch 46/50\n",
      "149/149 - 1s - loss: 62.4174 - rmse: 7.7390 - val_loss: 59.9519 - val_rmse: 7.5946 - 505ms/epoch - 3ms/step\n",
      "Epoch 47/50\n",
      "149/149 - 0s - loss: 62.4174 - rmse: 7.7390 - val_loss: 59.9519 - val_rmse: 7.5946 - 452ms/epoch - 3ms/step\n",
      "Epoch 48/50\n",
      "149/149 - 1s - loss: 62.4174 - rmse: 7.7390 - val_loss: 59.9519 - val_rmse: 7.5946 - 515ms/epoch - 3ms/step\n",
      "Epoch 49/50\n",
      "149/149 - 0s - loss: 62.4174 - rmse: 7.7390 - val_loss: 59.9519 - val_rmse: 7.5946 - 478ms/epoch - 3ms/step\n",
      "Epoch 50/50\n",
      "149/149 - 0s - loss: 62.4174 - rmse: 7.7390 - val_loss: 59.9519 - val_rmse: 7.5946 - 474ms/epoch - 3ms/step\n"
     ]
    },
    {
     "data": {
      "text/plain": [
       "<keras.src.callbacks.History at 0x1a18888ba30>"
      ]
     },
     "execution_count": 45,
     "metadata": {},
     "output_type": "execute_result"
    }
   ],
   "source": [
    "from keras.models import Sequential\n",
    "from keras.layers import LSTM, Dense\n",
    "from keras import backend as K\n",
    "\n",
    "def rmse(y_true, y_pred):\n",
    "    return K.sqrt(K.mean(K.square(y_pred - y_true)))\n",
    "\n",
    "model = Sequential()\n",
    "model.add(LSTM(50, input_shape=(X_train.shape[1], X_train.shape[2])))\n",
    "model.add(Dense(1))\n",
    "model.compile(loss='mean_squared_error', optimizer='adam', metrics=[rmse])\n",
    "\n",
    "model.fit(X_train, y_train, epochs=10, batch_size=72, validation_data=(X_test, y_test), verbose=2, shuffle=False)"
   ]
  },
  {
   "cell_type": "code",
   "execution_count": 48,
   "metadata": {},
   "outputs": [
    {
     "name": "stdout",
     "output_type": "stream",
     "text": [
      "Train Loss: 62.41313171386719, Train RMSE: 7.598634243011475\n",
      "Test Loss: 59.95191955566406, Test RMSE: 7.438716411590576\n"
     ]
    }
   ],
   "source": [
    "# Evaluate the model using RMSE\n",
    "train_loss, train_rmse = model.evaluate(X_train, y_train, verbose=0)\n",
    "test_loss, test_rmse = model.evaluate(X_test, y_test, verbose=0)\n",
    "print(f'Train Loss: {train_loss}, Train RMSE: {train_rmse}')\n",
    "print(f'Test Loss: {test_loss}, Test RMSE: {test_rmse}')"
   ]
  }
 ],
 "metadata": {
  "kernelspec": {
   "display_name": "Python 3",
   "language": "python",
   "name": "python3"
  },
  "language_info": {
   "codemirror_mode": {
    "name": "ipython",
    "version": 3
   },
   "file_extension": ".py",
   "mimetype": "text/x-python",
   "name": "python",
   "nbconvert_exporter": "python",
   "pygments_lexer": "ipython3",
   "version": "3.10.10"
  }
 },
 "nbformat": 4,
 "nbformat_minor": 2
}
